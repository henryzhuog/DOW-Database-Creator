{
 "cells": [
  {
   "cell_type": "code",
   "execution_count": 1,
   "id": "eb768916",
   "metadata": {},
   "outputs": [
    {
     "name": "stdout",
     "output_type": "stream",
     "text": [
      "Requirement already satisfied: sqlalchemy in c:\\users\\mzdlm\\anaconda3\\lib\\site-packages (1.4.32)\n",
      "Requirement already satisfied: greenlet!=0.4.17 in c:\\users\\mzdlm\\anaconda3\\lib\\site-packages (from sqlalchemy) (1.1.1)\n"
     ]
    }
   ],
   "source": [
    "# import libraries\n",
    "import sqlalchemy as db\n",
    "import pandas as pd\n",
    "import yfinance as yf"
   ]
  },
  {
   "cell_type": "markdown",
   "id": "c055c217",
   "metadata": {},
   "source": [
    "#### For the sake of time and memory we'll just be examining companies in the Dow Jones Industrial Average"
   ]
  },
  {
   "cell_type": "code",
   "execution_count": 2,
   "id": "da65a1a0",
   "metadata": {},
   "outputs": [],
   "source": [
    "# create a list of tickers in the DOW\n",
    "dow_tickers = pd.read_html('https://en.wikipedia.org/wiki/Dow_Jones_Industrial_Average')[1].Symbol.to_list()"
   ]
  },
  {
   "cell_type": "code",
   "execution_count": 3,
   "id": "9cf12a10",
   "metadata": {},
   "outputs": [],
   "source": [
    "# returns a list of data frames where each data frame details a company in the DOW\n",
    "def get_data(tickers):\n",
    "    data = []\n",
    "    for ticker in tickers:\n",
    "        data.append(yf.download(ticker).reset_index()) # reset index so that 'Date' is a column not an index (we want a 0-based index)\n",
    "    return data"
   ]
  },
  {
   "cell_type": "code",
   "execution_count": 4,
   "id": "2cc1878c",
   "metadata": {},
   "outputs": [
    {
     "name": "stdout",
     "output_type": "stream",
     "text": [
      "[*********************100%***********************]  1 of 1 completed\n",
      "[*********************100%***********************]  1 of 1 completed\n",
      "[*********************100%***********************]  1 of 1 completed\n",
      "[*********************100%***********************]  1 of 1 completed\n",
      "[*********************100%***********************]  1 of 1 completed\n",
      "[*********************100%***********************]  1 of 1 completed\n",
      "[*********************100%***********************]  1 of 1 completed\n",
      "[*********************100%***********************]  1 of 1 completed\n",
      "[*********************100%***********************]  1 of 1 completed\n",
      "[*********************100%***********************]  1 of 1 completed\n",
      "[*********************100%***********************]  1 of 1 completed\n",
      "[*********************100%***********************]  1 of 1 completed\n",
      "[*********************100%***********************]  1 of 1 completed\n",
      "[*********************100%***********************]  1 of 1 completed\n",
      "[*********************100%***********************]  1 of 1 completed\n",
      "[*********************100%***********************]  1 of 1 completed\n",
      "[*********************100%***********************]  1 of 1 completed\n",
      "[*********************100%***********************]  1 of 1 completed\n",
      "[*********************100%***********************]  1 of 1 completed\n",
      "[*********************100%***********************]  1 of 1 completed\n",
      "[*********************100%***********************]  1 of 1 completed\n",
      "[*********************100%***********************]  1 of 1 completed\n",
      "[*********************100%***********************]  1 of 1 completed\n",
      "[*********************100%***********************]  1 of 1 completed\n",
      "[*********************100%***********************]  1 of 1 completed\n",
      "[*********************100%***********************]  1 of 1 completed\n",
      "[*********************100%***********************]  1 of 1 completed\n",
      "[*********************100%***********************]  1 of 1 completed\n",
      "[*********************100%***********************]  1 of 1 completed\n",
      "[*********************100%***********************]  1 of 1 completed\n"
     ]
    }
   ],
   "source": [
    "# list of data frames\n",
    "dow_frames = get_data(dow_tickers)"
   ]
  },
  {
   "cell_type": "code",
   "execution_count": 5,
   "id": "22557499",
   "metadata": {},
   "outputs": [],
   "source": [
    "# creates the database engine\n",
    "dow_engine = db.create_engine('sqlite:///DOW.db')"
   ]
  },
  {
   "cell_type": "code",
   "execution_count": 6,
   "id": "a59967da",
   "metadata": {},
   "outputs": [],
   "source": [
    "# populate the database\n",
    "for frame, ticker in zip(dow_frames, dow_tickers):\n",
    "    frame.to_sql(ticker, dow_engine, index=False)"
   ]
  },
  {
   "cell_type": "markdown",
   "id": "e3e8399c",
   "metadata": {},
   "source": [
    "#### Database has now been successfully created. You can use a database editor to view the data, run queries, or make edits.\n",
    "\n",
    "We can also run SQL commands using Pandas"
   ]
  },
  {
   "cell_type": "code",
   "execution_count": 7,
   "id": "17079745",
   "metadata": {},
   "outputs": [
    {
     "data": {
      "text/html": [
       "<div>\n",
       "<style scoped>\n",
       "    .dataframe tbody tr th:only-of-type {\n",
       "        vertical-align: middle;\n",
       "    }\n",
       "\n",
       "    .dataframe tbody tr th {\n",
       "        vertical-align: top;\n",
       "    }\n",
       "\n",
       "    .dataframe thead th {\n",
       "        text-align: right;\n",
       "    }\n",
       "</style>\n",
       "<table border=\"1\" class=\"dataframe\">\n",
       "  <thead>\n",
       "    <tr style=\"text-align: right;\">\n",
       "      <th></th>\n",
       "      <th>Date</th>\n",
       "      <th>Open</th>\n",
       "      <th>High</th>\n",
       "      <th>Low</th>\n",
       "      <th>Close</th>\n",
       "      <th>Adj Close</th>\n",
       "      <th>Volume</th>\n",
       "    </tr>\n",
       "  </thead>\n",
       "  <tbody>\n",
       "    <tr>\n",
       "      <th>0</th>\n",
       "      <td>1982-10-04 00:00:00.000000</td>\n",
       "      <td>0.082589</td>\n",
       "      <td>0.084263</td>\n",
       "      <td>0.080357</td>\n",
       "      <td>0.083705</td>\n",
       "      <td>0.065334</td>\n",
       "      <td>69328000</td>\n",
       "    </tr>\n",
       "    <tr>\n",
       "      <th>1</th>\n",
       "      <td>1982-10-05 00:00:00.000000</td>\n",
       "      <td>0.083705</td>\n",
       "      <td>0.085938</td>\n",
       "      <td>0.083705</td>\n",
       "      <td>0.084263</td>\n",
       "      <td>0.065769</td>\n",
       "      <td>80236800</td>\n",
       "    </tr>\n",
       "    <tr>\n",
       "      <th>2</th>\n",
       "      <td>1982-10-06 00:00:00.000000</td>\n",
       "      <td>0.084263</td>\n",
       "      <td>0.090402</td>\n",
       "      <td>0.084263</td>\n",
       "      <td>0.090402</td>\n",
       "      <td>0.070561</td>\n",
       "      <td>173532800</td>\n",
       "    </tr>\n",
       "    <tr>\n",
       "      <th>3</th>\n",
       "      <td>1982-10-07 00:00:00.000000</td>\n",
       "      <td>0.090960</td>\n",
       "      <td>0.098214</td>\n",
       "      <td>0.090960</td>\n",
       "      <td>0.097656</td>\n",
       "      <td>0.076223</td>\n",
       "      <td>311673600</td>\n",
       "    </tr>\n",
       "    <tr>\n",
       "      <th>4</th>\n",
       "      <td>1982-10-08 00:00:00.000000</td>\n",
       "      <td>0.097656</td>\n",
       "      <td>0.105469</td>\n",
       "      <td>0.097098</td>\n",
       "      <td>0.104911</td>\n",
       "      <td>0.081885</td>\n",
       "      <td>275542400</td>\n",
       "    </tr>\n",
       "    <tr>\n",
       "      <th>...</th>\n",
       "      <td>...</td>\n",
       "      <td>...</td>\n",
       "      <td>...</td>\n",
       "      <td>...</td>\n",
       "      <td>...</td>\n",
       "      <td>...</td>\n",
       "      <td>...</td>\n",
       "    </tr>\n",
       "    <tr>\n",
       "      <th>4767</th>\n",
       "      <td>2022-07-08 00:00:00.000000</td>\n",
       "      <td>145.259995</td>\n",
       "      <td>147.550003</td>\n",
       "      <td>145.000000</td>\n",
       "      <td>147.039993</td>\n",
       "      <td>147.039993</td>\n",
       "      <td>64493200</td>\n",
       "    </tr>\n",
       "    <tr>\n",
       "      <th>4768</th>\n",
       "      <td>2022-07-12 00:00:00.000000</td>\n",
       "      <td>145.759995</td>\n",
       "      <td>148.449997</td>\n",
       "      <td>145.050003</td>\n",
       "      <td>145.860001</td>\n",
       "      <td>145.860001</td>\n",
       "      <td>77588800</td>\n",
       "    </tr>\n",
       "    <tr>\n",
       "      <th>4769</th>\n",
       "      <td>2022-07-13 00:00:00.000000</td>\n",
       "      <td>142.990005</td>\n",
       "      <td>146.449997</td>\n",
       "      <td>142.119995</td>\n",
       "      <td>145.490005</td>\n",
       "      <td>145.490005</td>\n",
       "      <td>71185600</td>\n",
       "    </tr>\n",
       "    <tr>\n",
       "      <th>4770</th>\n",
       "      <td>2022-07-14 00:00:00.000000</td>\n",
       "      <td>144.080002</td>\n",
       "      <td>148.949997</td>\n",
       "      <td>143.250000</td>\n",
       "      <td>148.470001</td>\n",
       "      <td>148.470001</td>\n",
       "      <td>78140700</td>\n",
       "    </tr>\n",
       "    <tr>\n",
       "      <th>4771</th>\n",
       "      <td>2022-07-15 00:00:00.000000</td>\n",
       "      <td>149.779999</td>\n",
       "      <td>150.860001</td>\n",
       "      <td>148.199997</td>\n",
       "      <td>150.169998</td>\n",
       "      <td>150.169998</td>\n",
       "      <td>76030800</td>\n",
       "    </tr>\n",
       "  </tbody>\n",
       "</table>\n",
       "<p>4772 rows × 7 columns</p>\n",
       "</div>"
      ],
      "text/plain": [
       "                            Date        Open        High         Low  \\\n",
       "0     1982-10-04 00:00:00.000000    0.082589    0.084263    0.080357   \n",
       "1     1982-10-05 00:00:00.000000    0.083705    0.085938    0.083705   \n",
       "2     1982-10-06 00:00:00.000000    0.084263    0.090402    0.084263   \n",
       "3     1982-10-07 00:00:00.000000    0.090960    0.098214    0.090960   \n",
       "4     1982-10-08 00:00:00.000000    0.097656    0.105469    0.097098   \n",
       "...                          ...         ...         ...         ...   \n",
       "4767  2022-07-08 00:00:00.000000  145.259995  147.550003  145.000000   \n",
       "4768  2022-07-12 00:00:00.000000  145.759995  148.449997  145.050003   \n",
       "4769  2022-07-13 00:00:00.000000  142.990005  146.449997  142.119995   \n",
       "4770  2022-07-14 00:00:00.000000  144.080002  148.949997  143.250000   \n",
       "4771  2022-07-15 00:00:00.000000  149.779999  150.860001  148.199997   \n",
       "\n",
       "           Close   Adj Close     Volume  \n",
       "0       0.083705    0.065334   69328000  \n",
       "1       0.084263    0.065769   80236800  \n",
       "2       0.090402    0.070561  173532800  \n",
       "3       0.097656    0.076223  311673600  \n",
       "4       0.104911    0.081885  275542400  \n",
       "...          ...         ...        ...  \n",
       "4767  147.039993  147.039993   64493200  \n",
       "4768  145.860001  145.860001   77588800  \n",
       "4769  145.490005  145.490005   71185600  \n",
       "4770  148.470001  148.470001   78140700  \n",
       "4771  150.169998  150.169998   76030800  \n",
       "\n",
       "[4772 rows x 7 columns]"
      ]
     },
     "execution_count": 7,
     "metadata": {},
     "output_type": "execute_result"
    }
   ],
   "source": [
    "# sample query\n",
    "pd.read_sql('SELECT * FROM AAPL WHERE CLOSE > OPEN', dow_engine)"
   ]
  }
 ],
 "metadata": {
  "kernelspec": {
   "display_name": "Python 3 (ipykernel)",
   "language": "python",
   "name": "python3"
  },
  "language_info": {
   "codemirror_mode": {
    "name": "ipython",
    "version": 3
   },
   "file_extension": ".py",
   "mimetype": "text/x-python",
   "name": "python",
   "nbconvert_exporter": "python",
   "pygments_lexer": "ipython3",
   "version": "3.9.12"
  }
 },
 "nbformat": 4,
 "nbformat_minor": 5
}
